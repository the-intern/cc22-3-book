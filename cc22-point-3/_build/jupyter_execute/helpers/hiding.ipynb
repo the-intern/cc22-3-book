{
 "cells": [
  {
   "cell_type": "markdown",
   "id": "c8a78df6",
   "metadata": {},
   "source": [
    "# Hide or remove content\n",
    "\n",
    "It's possible to control which content shows up in your book. For example,\n",
    "you may want to display a complex visualization to illustrate an idea, but don't\n",
    "want the page to be cluttered with a large code cell that generated the visualization.\n",
    "In other cases, you may want to remove a code cell entirely.\n",
    "\n",
    "In this case, you have two options:\n",
    "\n",
    "* **Hiding** content provides a button that lets readers reveal the content.\n",
    "* **Removing** content prevents it from making it into your book. It\n",
    "  will be entirely gone (though still present in the source files)\n",
    "\n",
    "There are two ways to hide content:\n",
    "\n",
    "* To hide Markdown, use the `{toggle}` directive.\n",
    "* To hide or remove code cells or their outputs, use **notebook cell tags**.\n",
    "\n",
    "We'll cover each alternative below.\n",
    "\n",
    ":::{seealso}\n",
    "[](jupyter-cell-tags)\n",
    ":::\n",
    "\n",
    "## Hide Markdown using MyST Markdown\n",
    "\n",
    "There are two ways to hide Markdown content\n",
    "\n",
    "* you can use the `{toggle}` directive to hide arbitrary blocks of content\n",
    "* you can use the `dropdown` class with admonitions to turn them into dropdowns\n",
    "\n",
    "Both allow you to wrap chunks of Markdown in a button that lets users show\n",
    "and hide the content.\n",
    "\n",
    ":::{caution}\n",
    "\n",
    "Don't put markdown headers inside of toggle or dropdown content, see [](content-blocks:warning-headers-admonitions) for more information.\n",
    "\n",
    ":::\n",
    "\n",
    "### The `{toggle}` directive\n",
    "\n",
    "You can activate a toggleable behavior in Markdown with the `{toggle}`\n",
    "directive like so:\n",
    "\n",
    "````md\n",
    "```{toggle}\n",
    "Some hidden toggle content!\n",
    "\n",
    "![](../images/cool.jpeg)\n",
    "```\n",
    "````\n",
    "\n",
    "This results in:\n",
    "\n",
    "```{toggle}\n",
    "Some hidden toggle content!\n",
    "\n",
    "![](../images/cool.jpeg)\n",
    "```\n",
    "\n",
    "Note that if you'd like to **show the toggle content by default**, you can\n",
    "add the `:show:` flag when you use `{toggle}`, like so:\n",
    "\n",
    "````md\n",
    "```{toggle} Click the button to reveal!\n",
    ":show:\n",
    "Some hidden toggle content!\n",
    "\n",
    "![](../images/cool.jpeg)\n",
    "```\n",
    "````\n",
    "\n",
    "### Toggle admonition content with dropdowns\n",
    "\n",
    "You can also **add toggle buttons to admonition blocks**, effectively making them\n",
    "dropdown blocks. Users will see the admonition title, but will need to click\n",
    "in order to reveal the content. To do so, add the `dropdown` class to any admonition.\n",
    "For example, the code\n",
    "\n",
    "````md\n",
    "```{admonition} Click the button to reveal!\n",
    ":class: dropdown\n",
    "Some hidden toggle content!\n",
    "\n",
    "![](../images/cool.jpeg)\n",
    "```\n",
    "````\n",
    "\n",
    "results in:\n",
    "\n",
    "```{admonition} Click the button to reveal!\n",
    ":class: dropdown\n",
    "Some hidden toggle content!\n",
    "\n",
    "![](../images/cool.jpeg)\n",
    "```\n",
    "\n",
    "See {ref}`content/toggle-admonitions` for more information on admonition dropdowns.\n",
    "\n",
    "## Hide code cell content\n",
    "\n",
    "You can hide most cell elements of a page. The sections below describe how\n",
    "to hide each using cell tags in MyST Markdown.\n",
    "If you're working with `.ipynb` files, see [the cell tags guide](jupyter-cell-tags)\n",
    "on adding cell tags to notebooks in Jupyter Notebook or JupyterLab.\n",
    "\n",
    "If an element is hidden, Jupyter Book will display a small button to the right of the\n",
    "old location for the hidden element. If a user clicks the button,\n",
    "the element will be displayed.\n",
    "\n",
    "### Hide cell inputs\n",
    "\n",
    "If you add the tag `hide-input` to a cell, then Jupyter Book will hide the cell but\n",
    "display the outputs.\n",
    "\n",
    "Here's an example of cell metadata that would trigger the \"hide code\" behavior:\n",
    "\n",
    "```json\n",
    "{\n",
    "    \"tags\": [\n",
    "        \"hide-input\",\n",
    "    ]\n",
    "}\n",
    "```\n",
    "\n",
    "For example, notice the cell below contains the `hide-input` tag:"
   ]
  },
  {
   "cell_type": "code",
   "execution_count": 1,
   "id": "296e5674",
   "metadata": {
    "tags": [
     "hide-input"
    ]
   },
   "outputs": [
    {
     "ename": "ModuleNotFoundError",
     "evalue": "No module named 'numpy'",
     "output_type": "error",
     "traceback": [
      "\u001b[0;31m---------------------------------------------------------------------------\u001b[0m",
      "\u001b[0;31mModuleNotFoundError\u001b[0m                       Traceback (most recent call last)",
      "Input \u001b[0;32mIn [1]\u001b[0m, in \u001b[0;36m<cell line: 1>\u001b[0;34m()\u001b[0m\n\u001b[0;32m----> 1\u001b[0m \u001b[38;5;28;01mimport\u001b[39;00m \u001b[38;5;21;01mnumpy\u001b[39;00m \u001b[38;5;28;01mas\u001b[39;00m \u001b[38;5;21;01mnp\u001b[39;00m\n\u001b[1;32m      2\u001b[0m \u001b[38;5;28;01mimport\u001b[39;00m \u001b[38;5;21;01mmatplotlib\u001b[39;00m\u001b[38;5;21;01m.\u001b[39;00m\u001b[38;5;21;01mpyplot\u001b[39;00m \u001b[38;5;28;01mas\u001b[39;00m \u001b[38;5;21;01mplt\u001b[39;00m\n\u001b[1;32m      3\u001b[0m plt\u001b[38;5;241m.\u001b[39mion()\n",
      "\u001b[0;31mModuleNotFoundError\u001b[0m: No module named 'numpy'"
     ]
    }
   ],
   "source": [
    "import numpy as np\n",
    "import matplotlib.pyplot as plt\n",
    "plt.ion()\n",
    "\n",
    "data = np.random.randn(2, 100)\n",
    "fig, ax = plt.subplots()\n",
    "ax.scatter(*data, c=data[1], s=100*np.abs(data[0]));"
   ]
  },
  {
   "cell_type": "markdown",
   "id": "1722bae5",
   "metadata": {},
   "source": [
    "Note how we only see the output by default. Now try clicking the button\n",
    "to the right of the empty spot above!"
   ]
  },
  {
   "cell_type": "markdown",
   "id": "1a2b96b5",
   "metadata": {},
   "source": [
    "### Hide cell outputs\n",
    "\n",
    "You can also hide the *outputs* of a cell. For example, if you'd like to ask users to\n",
    "think about what the output will look like first before viewing an answer. To do so,\n",
    "add the following tag to your cell:\n",
    "\n",
    "```json\n",
    "{\n",
    "    \"tags\": [\n",
    "        \"hide-output\"\n",
    "    ]\n",
    "}\n",
    "```"
   ]
  },
  {
   "cell_type": "code",
   "execution_count": null,
   "id": "4a50191f",
   "metadata": {
    "tags": [
     "hide-output"
    ]
   },
   "outputs": [],
   "source": [
    "# This cell should have its output hidden!\n",
    "data = np.random.randn(2, 100)\n",
    "fig, ax = plt.subplots()\n",
    "ax.scatter(*data, c=data[1], s=100*np.abs(data[0]));"
   ]
  },
  {
   "cell_type": "markdown",
   "id": "309b857e",
   "metadata": {},
   "source": [
    "### Hide entire code cells\n",
    "\n",
    "If you'd like to hide the whole code cell (both inputs and outputs) just add this\n",
    "tag to the cell metadata, like so:\n",
    "\n",
    "```json\n",
    "{\n",
    "    \"tags\": [\n",
    "        \"hide-cell\"\n",
    "    ]\n",
    "}\n",
    "```"
   ]
  },
  {
   "cell_type": "code",
   "execution_count": null,
   "id": "c130ed29",
   "metadata": {
    "tags": [
     "hide-cell"
    ]
   },
   "outputs": [],
   "source": [
    "# This cell should have its output hidden!\n",
    "data = np.random.randn(2, 100)\n",
    "fig, ax = plt.subplots()\n",
    "ax.scatter(*data, c=data[1], s=100*np.abs(data[0]));"
   ]
  },
  {
   "cell_type": "markdown",
   "id": "5e269535",
   "metadata": {},
   "source": [
    "(hiding/remove-content)=\n",
    "## Removing code cell content\n",
    "\n",
    "In the above examples, we are only *hiding* parts of the cell, with the option\n",
    "that readers can reveal them if they wish. However, if you'd like to completely **remove**\n",
    "the respective parts, so that their contents do not make it into the book's HTML, you may\n",
    "use the appropriate `remove-` tags, i.e. `remove-input`, `remove-output` and `remove-cell`."
   ]
  },
  {
   "cell_type": "markdown",
   "id": "0d2822be",
   "metadata": {},
   "source": [
    "### Remove cell inputs\n",
    "\n",
    "The following cell has its inputs removed with `remove-input`. Note that in\n",
    "this case, there is no button available to show the input contents,\n",
    "the entire input cell is gone!"
   ]
  },
  {
   "cell_type": "code",
   "execution_count": null,
   "id": "4cfe866c",
   "metadata": {
    "tags": [
     "remove-input"
    ]
   },
   "outputs": [],
   "source": [
    "# For example, this cell's inputs will be removed\n",
    "import numpy as np\n",
    "import matplotlib.pyplot as plt\n",
    "plt.ion()\n",
    "\n",
    "data = np.random.randn(2, 100)\n",
    "fig, ax = plt.subplots()\n",
    "ax.scatter(*data, c=data[1], s=100*np.abs(data[0]));"
   ]
  },
  {
   "cell_type": "markdown",
   "id": "99c32c29",
   "metadata": {},
   "source": [
    "### Remove cell outputs\n",
    "\n",
    "Similar to hiding inputs, it is also possible to hide the outputs\n",
    "of a cell with `remove-output`:\n",
    "\n",
    "```json\n",
    "{\n",
    "    \"tags\": [\n",
    "        \"remove-output\"\n",
    "    ]\n",
    "}\n",
    "```"
   ]
  },
  {
   "cell_type": "markdown",
   "id": "18cf7d22",
   "metadata": {},
   "source": [
    "### Remove an entire code cell\n",
    "\n",
    "You can also remove **both** the inputs and outputs of a cell, in which case it\n",
    "won't show up in your book at all. These cells remain in the notebook file itself,\n",
    "so they'll show up if readers click on a {term}`JupyterHub` or {term}`Binder` link from a page.\n",
    "\n",
    "To remove both the inputs and outputs of a cell, add the tag `remove-cell` to the tags\n",
    "of the cell. Here's an example of cell metadata that would trigger the \"remove cell\" behavior:\n",
    "\n",
    "```json\n",
    "{\n",
    "    \"tags\": [\n",
    "        \"remove-cell\"\n",
    "    ]\n",
    "}\n",
    "```\n",
    "\n",
    "These cells will be entirely removed from each book page - remember that if you'd like to\n",
    "optionally display the inputs of a cell instead, you should use the `hide-input` tag.\n",
    "\n",
    "For example, there's a cell below this text that won't make it into the final book,\n",
    "because it has been removed!"
   ]
  },
  {
   "cell_type": "code",
   "execution_count": null,
   "id": "ff70ed41",
   "metadata": {
    "tags": [
     "remove-cell"
    ]
   },
   "outputs": [],
   "source": [
    "# For example, this entire cell (input and output) will be removed\n",
    "import numpy as np\n",
    "import matplotlib.pyplot as plt\n",
    "plt.ion()\n",
    "\n",
    "data = np.random.randn(2, 100)\n",
    "fig, ax = plt.subplots()\n",
    "ax.scatter(*data, c=data[1], s=100*np.abs(data[0]));"
   ]
  },
  {
   "cell_type": "markdown",
   "id": "b7e2e5a1",
   "metadata": {},
   "source": [
    "### Remove empty cells\n",
    "\n",
    "You don't need to do anything to remove empty cells from your pages.\n",
    "Jupyter Book will remove these automatically. Any cell with *only*\n",
    "whitespace will be removed."
   ]
  },
  {
   "cell_type": "code",
   "execution_count": null,
   "id": "0033cf6f",
   "metadata": {},
   "outputs": [],
   "source": []
  },
  {
   "cell_type": "code",
   "execution_count": null,
   "id": "b8e648de",
   "metadata": {},
   "outputs": [],
   "source": []
  },
  {
   "cell_type": "markdown",
   "id": "17a9d871",
   "metadata": {},
   "source": [
    "For example, in the notebook for this page there are two cells above this text.\n",
    "Both only contain whitespace. Both are gone from\n",
    "the final output."
   ]
  }
 ],
 "metadata": {
  "jupytext": {
   "text_representation": {
    "extension": ".md",
    "format_name": "myst"
   }
  },
  "kernelspec": {
   "display_name": "Python 3",
   "language": "python",
   "name": "python3"
  },
  "language_info": {
   "codemirror_mode": {
    "name": "ipython",
    "version": 3
   },
   "file_extension": ".py",
   "mimetype": "text/x-python",
   "name": "python",
   "nbconvert_exporter": "python",
   "pygments_lexer": "ipython3",
   "version": "3.9.7"
  },
  "source_map": [
   10,
   140,
   150,
   155,
   171,
   178,
   193,
   200,
   210,
   218,
   229,
   244,
   269,
   280,
   288,
   293,
   295
  ]
 },
 "nbformat": 4,
 "nbformat_minor": 5
}